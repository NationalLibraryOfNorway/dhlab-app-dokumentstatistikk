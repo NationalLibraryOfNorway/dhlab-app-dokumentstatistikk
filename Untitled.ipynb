{
 "cells": [
  {
   "cell_type": "code",
   "execution_count": 93,
   "metadata": {},
   "outputs": [],
   "source": [
    "from dhlab.module_update import css, update, code_toggle\n",
    "\n",
    "import requests\n",
    "import pandas as pd\n",
    "import dhlab.nbtext as nb\n",
    "import matplotlib.pyplot as plt\n",
    "import networkx as nx\n",
    "import dhlab.graph_networkx_louvain as gnl\n",
    "import seaborn as sns\n",
    "\n",
    "\n",
    "def get_df(frases, title='aftenposten', aggs='year'):\n",
    "    import requests\n",
    "    querystring = \" + \".join(['\"'+frase+'\"' for frase in frases])\n",
    "    query = {\n",
    "        'q':querystring,\n",
    "        'size':1,\n",
    "        'aggs':aggs,\n",
    "        #'filter':'mediatype:{mt}'.format(mt=media),\n",
    "        'filter':f'title:{title}'\n",
    "    }\n",
    "    r = requests.get(\"https://api.nb.no/catalog/v1/items\", params = query)\n",
    "    aggs = r.json()['_embedded']['aggregations'][0]['buckets']\n",
    "    return {x['key']:x['count'] for x in aggs}\n",
    "\n",
    "def get_days(phrases, title=None, year = 2000, month= '02'):\n",
    "    \"\"\"make sure month has lenght two \"\"\"\n",
    "    querystring = \"+\".join([f' \"{phrase}\" ' for phrase in phrases])\n",
    "    query = {\n",
    "        'q': querystring,\n",
    "        'aggs':'day',\n",
    "        'filter': f'date:[{str(year)}{str(month)}01 TO {str(year)}{str(month)}31]'\n",
    "    }\n",
    "    r = requests.get(\"https://api.nb.no/catalog/v1/items\", params = query)\n",
    "    try:\n",
    "        aggs = r.json()['_embedded']['aggregations'][0]['buckets']\n",
    "    except:\n",
    "        aggs = []\n",
    "    return {x['key']:x['count'] for x in aggs}\n",
    "\n",
    "def get_data(frase, media='avis', title='jazznytt'):\n",
    "    import requests\n",
    "    query = {\n",
    "        'q':'\"'+frase+'\"\"',\n",
    "        'size':1,\n",
    "        'aggs':'year',\n",
    "        'filter':'mediatype:{mt}'.format(mt=media),\n",
    "        'filter':'title:{title}'.format(title=title)\n",
    "    }\n",
    "    r = requests.get(\"https://api.nb.no/catalog/v1/items\", params = query)\n",
    "    return r.json()\n",
    "\n",
    "def get_data_and(frases, title='aftenposten', media='avis'):\n",
    "    import requests\n",
    "    querystring = \" + \".join(['\"'+frase+'\"' for frase in frases])\n",
    "    print(querystring)\n",
    "    query = {\n",
    "        'q':querystring,\n",
    "        'size':1,\n",
    "        'aggs':'year',\n",
    "        #'filter':'mediatype:{mt}'.format(mt=media),\n",
    "        'filter':'title:{title}'.format(title=title)\n",
    "    }\n",
    "    r = requests.get(\"https://api.nb.no/catalog/v1/items\", params = query)\n",
    "    return r.json()\n",
    "\n",
    "def get_df_pd(frase, media='bøker'):\n",
    "    import pandas as pd\n",
    "    return pd.DataFrame.from_dict(get_df(frase, media=media ), orient='index').sort_index()\n",
    "\n",
    "def phrase_plots(phrase_sets, title='aftenposten', fra = 1960, til = 2020, step=5, aggs='year'):\n",
    "    df_all = []\n",
    "    for f in phrase_sets:\n",
    "        df_all.append(nb.frame(get_df(f, title= title,  aggs=aggs), ', '.join(f)))\n",
    "    df = pd.concat(df_all, sort=False)\n",
    "    df.index = df.index.astype(int)\n",
    "    df = df.sort_index()\n",
    "    df['bins'] = pd.cut(df.index, range(fra, til, step), precision=0)\n",
    "    df.groupby('bins').sum().plot(kind='bar', figsize=(15,5), rot=0)\n",
    "    return\n",
    "\n",
    "\n",
    "\n",
    "def graph_from_df(df, threshold = 100):\n",
    "    edges =  []\n",
    "    normalizer = {(x, y): df.stack()[(x,x)]*df.stack()[(y,y)] for (x,y) in df.stack().index}\n",
    "    for (x, y) in df.stack().index:\n",
    "        if x != y:\n",
    "            if df.stack()[(x,y)] > threshold:\n",
    "                edges.append([x,y,df.stack()[(x,y)]/normalizer[(x,y)]])\n",
    "    G = nx.Graph()\n",
    "    G.add_weighted_edges_from(edges)\n",
    "    return G"
   ]
  },
  {
   "cell_type": "code",
   "execution_count": 43,
   "metadata": {},
   "outputs": [],
   "source": [
    "r = requests.get(\"https://api.nb.no/catalog/v1/items?q=hamsun&filter=mediatype:aviser&filter=contentClasses:jp2&filter=date:[20220401 TO 20220431]&aggs=mediatype&aggs=day&snippets=aviser&fragments=2&fragSize=500&size=50&profile=nbdigital\")\n"
   ]
  },
  {
   "cell_type": "code",
   "execution_count": 85,
   "metadata": {},
   "outputs": [],
   "source": [
    "def get_days(phrases, title=None, year = 2000, month= '02'):\n",
    "    querystring = \" + \".join([f' \"{phrase}\" ' for phrase in phrases])\n",
    "    query = {\n",
    "        'q': querystring,\n",
    "        'aggs':'day',\n",
    "        'filter': f'date:[{str(year)}{str(month)}01 TO {str(year)}{str(month)}31]'\n",
    "    }\n",
    "    r = requests.get(\"https://api.nb.no/catalog/v1/items\", params = query)\n",
    "    try:\n",
    "        aggs = r.json()['_embedded']['aggregations'][0]['buckets']\n",
    "    except:\n",
    "        aggs = []\n",
    "    return {x['key']:x['count'] for x in aggs}"
   ]
  },
  {
   "cell_type": "code",
   "execution_count": 84,
   "metadata": {},
   "outputs": [
    {
     "data": {
      "text/plain": [
       "'09'"
      ]
     },
     "execution_count": 84,
     "metadata": {},
     "output_type": "execute_result"
    }
   ],
   "source": [
    "\"9\".rjust(2,'0')"
   ]
  },
  {
   "cell_type": "code",
   "execution_count": 90,
   "metadata": {},
   "outputs": [],
   "source": [
    "a = {f\"{str(year)}{str(mnth).rjust(2,'0')}\": get_days('i', year=year, month=str(mnth).rjust(2,'0')) for mnth in range(1,12) for year in range(2010, 2012)}"
   ]
  },
  {
   "cell_type": "code",
   "execution_count": null,
   "metadata": {},
   "outputs": [],
   "source": []
  },
  {
   "cell_type": "code",
   "execution_count": 91,
   "metadata": {},
   "outputs": [],
   "source": [
    "#a = [f\"{str(year)}{str(mnth).rjust(2,'0')}\" for mnth in range(1,12) for year in range(2010, 2012)]"
   ]
  },
  {
   "cell_type": "code",
   "execution_count": 92,
   "metadata": {},
   "outputs": [
    {
     "data": {
      "text/plain": [
       "201001    4691.0\n",
       "201101    4649.0\n",
       "201002    4269.0\n",
       "201102    4200.0\n",
       "201003    4765.0\n",
       "201103    4719.0\n",
       "201004    4123.0\n",
       "201104    4030.0\n",
       "201005    4089.0\n",
       "201105    4538.0\n",
       "201006    4651.0\n",
       "201106    4337.0\n",
       "201007    4278.0\n",
       "201107    4077.0\n",
       "201008    4712.0\n",
       "201108    4530.0\n",
       "201009    4575.0\n",
       "201109    5046.0\n",
       "201010    4532.0\n",
       "201110    4406.0\n",
       "201011    4434.0\n",
       "201111    4567.0\n",
       "dtype: float64"
      ]
     },
     "execution_count": 92,
     "metadata": {},
     "output_type": "execute_result"
    }
   ],
   "source": [
    "pd.DataFrame(a).sort_index().fillna(0).sum()"
   ]
  },
  {
   "cell_type": "code",
   "execution_count": null,
   "metadata": {},
   "outputs": [],
   "source": []
  }
 ],
 "metadata": {
  "kernelspec": {
   "display_name": "Python 3 (ipykernel)",
   "language": "python",
   "name": "python3"
  },
  "language_info": {
   "codemirror_mode": {
    "name": "ipython",
    "version": 3
   },
   "file_extension": ".py",
   "mimetype": "text/x-python",
   "name": "python",
   "nbconvert_exporter": "python",
   "pygments_lexer": "ipython3",
   "version": "3.9.15"
  }
 },
 "nbformat": 4,
 "nbformat_minor": 4
}
