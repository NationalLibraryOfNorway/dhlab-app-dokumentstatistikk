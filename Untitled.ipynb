{
 "cells": [
  {
   "cell_type": "code",
   "execution_count": 4,
   "metadata": {},
   "outputs": [],
   "source": [
    "from dhlab.module_update import css, update, code_toggle\n",
    "\n",
    "import requests\n",
    "import pandas as pd\n",
    "import dhlab.nbtext as nb\n",
    "import matplotlib.pyplot as plt\n",
    "import networkx as nx\n",
    "import dhlab.graph_networkx_louvain as gnl\n",
    "import seaborn as sns\n",
    "\n",
    "\n",
    "def get_df(frases, title='aftenposten'):\n",
    "    import requests\n",
    "    querystring = \" + \".join(['\"'+frase+'\"' for frase in frases])\n",
    "    query = {\n",
    "        'q':querystring,\n",
    "        'size':1,\n",
    "        'aggs':'year',\n",
    "        #'filter':'mediatype:{mt}'.format(mt=media),\n",
    "        'filter':'title:{title}'.format(title=title)\n",
    "    }\n",
    "    r = requests.get(\"https://api.nb.no/catalog/v1/items\", params = query)\n",
    "    aggs = r.json()['_embedded']['aggregations'][0]['buckets']\n",
    "    return {x['key']:x['count'] for x in aggs}\n",
    "\n",
    "def get_data(frase, media='avis', title='jazznytt'):\n",
    "    import requests\n",
    "    query = {\n",
    "        'q':'\"'+frase+'\"\"',\n",
    "        'size':1,\n",
    "        'aggs':'year',\n",
    "        'filter':'mediatype:{mt}'.format(mt=media),\n",
    "        'filter':'title:{title}'.format(title=title)\n",
    "    }\n",
    "    r = requests.get(\"https://api.nb.no/catalog/v1/items\", params = query)\n",
    "    return r.json()\n",
    "\n",
    "def get_data_and(frases, title='aftenposten', media='avis'):\n",
    "    import requests\n",
    "    querystring = \" + \".join(['\"'+frase+'\"' for frase in frases])\n",
    "    print(querystring)\n",
    "    query = {\n",
    "        'q':querystring,\n",
    "        'size':1,\n",
    "        'aggs':'year',\n",
    "        #'filter':'mediatype:{mt}'.format(mt=media),\n",
    "        'filter':'title:{title}'.format(title=title)\n",
    "    }\n",
    "    r = requests.get(\"https://api.nb.no/catalog/v1/items\", params = query)\n",
    "    return r.json()\n",
    "\n",
    "def get_df_pd(frase, media='bøker'):\n",
    "    import pandas as pd\n",
    "    return pd.DataFrame.from_dict(get_df(frase, media=media ), orient='index').sort_index()\n",
    "\n",
    "def phrase_plots(phrase_sets, title='aftenposten', fra = 1960, til = 2020, step=5):\n",
    "    df_all = []\n",
    "    for f in phrase_sets:\n",
    "        df_all.append(nb.frame(get_df(f, title= title), ', '.join(f)))\n",
    "    df = pd.concat(df_all, sort=False)\n",
    "    df.index = df.index.astype(int)\n",
    "    df = df.sort_index()\n",
    "    df['bins'] = pd.cut(df.index, range(fra, til, step), precision=0)\n",
    "    df.groupby('bins').sum().plot(kind='bar', figsize=(15,5), rot=0)\n",
    "    return\n",
    "\n",
    "\n",
    "\n",
    "def graph_from_df(df, threshold = 100):\n",
    "    edges =  []\n",
    "    normalizer = {(x, y): df.stack()[(x,x)]*df.stack()[(y,y)] for (x,y) in df.stack().index}\n",
    "    for (x, y) in df.stack().index:\n",
    "        if x != y:\n",
    "            if df.stack()[(x,y)] > threshold:\n",
    "                edges.append([x,y,df.stack()[(x,y)]/normalizer[(x,y)]])\n",
    "    G = nx.Graph()\n",
    "    G.add_weighted_edges_from(edges)\n",
    "    return G"
   ]
  },
  {
   "cell_type": "code",
   "execution_count": 9,
   "metadata": {},
   "outputs": [
    {
     "data": {
      "image/png": "[encoded data removed]",
      "text/plain": [
       "<Figure size 1080x360 with 1 Axes>"
      ]
     },
     "metadata": {
      "needs_background": "light"
     },
     "output_type": "display_data"
    }
   ],
   "source": [
    "phrase_plots([['i forhold til'],['i forholdet til'], ['med forbehold om']], title='*', fra=1940, til=1980, step=5)"
   ]
  }
 ],
 "metadata": {
  "kernelspec": {
   "display_name": "Python 3",
   "language": "python",
   "name": "python3"
  },
  "language_info": {
   "codemirror_mode": {
    "name": "ipython",
    "version": 3
   },
   "file_extension": ".py",
   "mimetype": "text/x-python",
   "name": "python",
   "nbconvert_exporter": "python",
   "pygments_lexer": "ipython3",
   "version": "3.8.1"
  }
 },
 "nbformat": 4,
 "nbformat_minor": 4
}
